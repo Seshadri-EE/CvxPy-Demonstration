{
 "cells": [
  {
   "cell_type": "markdown",
   "id": "0d9a6eac",
   "metadata": {},
   "source": [
    "## Overview of CVXPY\n",
    "Seshadri@ee, IITH\n",
    "\n",
    "Credits: CVX Team.\n",
    "Reference: CVXPy Documentation"
   ]
  },
  {
   "cell_type": "markdown",
   "id": "3583ff7f",
   "metadata": {},
   "source": [
    "### Major Steps\n",
    "\n",
    "1. Setup the problem\n",
    "2. Solve for the optimization problem\n",
    "\n",
    "While seting up the optimization problem\n",
    "1. Declaring all the variables, parameters and constraints\n",
    "2. Defining all the relevant expressions\n",
    "3. Defining the problem"
   ]
  },
  {
   "cell_type": "markdown",
   "id": "aaca3bc6",
   "metadata": {},
   "source": [
    "import cvxpy as cp\n",
    "import numpy as np"
   ]
  },
  {
   "cell_type": "markdown",
   "id": "76300038",
   "metadata": {},
   "source": [
    "#### 1 (a): Declare all the variables, parameters and constraints\n",
    "\n",
    "1. To declare a variables `cp.Variable(n)`\n",
    "2. To declare a paramter `c=cp.Parameter(n)`. When assigning a value `c.value=`.\n",
    "3. To declare a constant `c=value`/'c=np.array([])`"
   ]
  },
  {
   "cell_type": "code",
   "execution_count": 24,
   "id": "a8473bea",
   "metadata": {},
   "outputs": [
    {
     "name": "stdout",
     "output_type": "stream",
     "text": [
      "[1. 2. 3.] [1. 1. 1.]\n",
      "1.0\n"
     ]
    }
   ],
   "source": [
    "# x is a variable of length 3\n",
    "n = 3\n",
    "x = cp.Variable(n)\n",
    "\n",
    "# c is parameter of length 3\n",
    "c = cp.Parameter(n)\n",
    "\n",
    "# Assigning the value to a parameter\n",
    "c.value = np.array([1,1,1], dtype='float')\n",
    "\n",
    "# b is a constant of length 3\n",
    "b = np.array([1,2,3], dtype='float')\n",
    "\n",
    "# Pritning constants and attributes\n",
    "print(b, c.value)\n",
    "\n",
    "# Printing a particular value of a vector (variable/parameter)\n",
    "print(c[1].value)\n",
    "\n",
    "# Define a matrix\n",
    "A = np.array([[1,0,0],[0,2,0],[0,0,4]], dtype='float')"
   ]
  },
  {
   "cell_type": "markdown",
   "id": "958d762e",
   "metadata": {},
   "source": [
    "##### Useful functions/operations on Variables and Parameters\n",
    "\n",
    "1. Transpose (`x.T`)\n",
    "2. Dimension (`x.ndim`)\n",
    "3. Shape (`x.shape`)\n",
    "4. Value (`x.value`)"
   ]
  },
  {
   "cell_type": "markdown",
   "id": "37acf64f",
   "metadata": {},
   "source": [
    "#### 1(b): Defining expressions\n",
    "\n",
    "1. Standard operators such as +,-,*,/ to build expressions on scalars.\n",
    "2. When dealing with vectors/matrices: +, -, * (Multiplication of a matrix with a scalar or multiplication of a vector with a scalar), @ (used for matrix vector product ex: A@x).\n",
    "\n",
    "Apart from statndard operators, cvxpy has builtin functions (Atomic functions) that can be used to biuld more complex expressions."
   ]
  },
  {
   "cell_type": "code",
   "execution_count": 25,
   "id": "87cad489",
   "metadata": {},
   "outputs": [],
   "source": [
    "# Build an expression c^Tx\n",
    "e1 = c.T@x\n",
    "\n",
    "# Build an expression Ax\n",
    "e2 = A@x\n",
    "\n",
    "# Build an expression x^TAx\n",
    "e3 = x.T@A@x"
   ]
  },
  {
   "cell_type": "markdown",
   "id": "ec7e26de",
   "metadata": {},
   "source": [
    "##### Properties of Expressions\n",
    "\n",
    "1. Curvature `e.curvature` (Convex|Affine|Linear|Unknown)\n",
    "2. Sign `e.sign` (Nonnegative|Nonpositive|Unknown)\n",
    "3. Transpose `e.T`"
   ]
  },
  {
   "cell_type": "code",
   "execution_count": 30,
   "id": "27febb4f",
   "metadata": {},
   "outputs": [
    {
     "name": "stdout",
     "output_type": "stream",
     "text": [
      "AFFINE CONVEX\n",
      "UNKNOWN NONNEGATIVE\n"
     ]
    }
   ],
   "source": [
    "# Identify the curvature of e2 and e3\n",
    "print(e2.curvature, e3.curvature)\n",
    "\n",
    "# Identify the sign of e2 and e3\n",
    "print(e2.sign, e3.sign)"
   ]
  },
  {
   "cell_type": "markdown",
   "id": "0047066f",
   "metadata": {},
   "source": [
    "#### 1(c): Setup the problem\n",
    "\n",
    "1. Build the objective function (`cp.Minimize` or `cp.Maximize`) and the constraints (you pass it as a list) and subquently define the problem (`cp.Problem[obj,const]`) or define in the problem in one go.\n",
    "\n",
    "2. Before solving the problem, ensure that all the parameters are defined."
   ]
  },
  {
   "cell_type": "code",
   "execution_count": 43,
   "id": "6500ca0b",
   "metadata": {},
   "outputs": [],
   "source": [
    "# Define the objective function and the constraint\n",
    "obj = cp.Maximize(e1)\n",
    "con = [A@x<=b]\n",
    "\n",
    "# Setting up the problem\n",
    "prob = cp.Problem(obj,[A@x>=b])"
   ]
  },
  {
   "cell_type": "markdown",
   "id": "11bdf646",
   "metadata": {},
   "source": [
    "#### 2: Solving the optimization problem\n",
    "\n",
    "1. Solving the optimization problem (`prob.status()`)\n",
    "2. Status of the optimizaton (`prob.status`)\n",
    "3. Optimal value (`prob.value`)\n",
    "4. Optima (`x.value`)"
   ]
  },
  {
   "cell_type": "code",
   "execution_count": 51,
   "id": "ae5a1181",
   "metadata": {},
   "outputs": [
    {
     "name": "stdout",
     "output_type": "stream",
     "text": [
      "unbounded\n",
      "inf\n",
      "None\n"
     ]
    }
   ],
   "source": [
    "# Solve the optimization problem\n",
    "prob.solve()\n",
    "\n",
    "# Status of the optimization\n",
    "print(prob.status)\n",
    "\n",
    "# Optimal value\n",
    "print(prob.value)\n",
    "\n",
    "# Optima\n",
    "print(x.value)"
   ]
  },
  {
   "cell_type": "code",
   "execution_count": null,
   "id": "c81b8d89",
   "metadata": {},
   "outputs": [],
   "source": []
  }
 ],
 "metadata": {
  "kernelspec": {
   "display_name": "Python 3 (ipykernel)",
   "language": "python",
   "name": "python3"
  },
  "language_info": {
   "codemirror_mode": {
    "name": "ipython",
    "version": 3
   },
   "file_extension": ".py",
   "mimetype": "text/x-python",
   "name": "python",
   "nbconvert_exporter": "python",
   "pygments_lexer": "ipython3",
   "version": "3.11.3"
  }
 },
 "nbformat": 4,
 "nbformat_minor": 5
}
